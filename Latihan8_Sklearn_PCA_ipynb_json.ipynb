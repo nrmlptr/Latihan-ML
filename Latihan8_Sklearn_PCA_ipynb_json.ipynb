{
  "nbformat": 4,
  "nbformat_minor": 0,
  "metadata": {
    "colab": {
      "provenance": [],
      "include_colab_link": true
    },
    "kernelspec": {
      "name": "python3",
      "display_name": "Python 3"
    }
  },
  "cells": [
    {
      "cell_type": "markdown",
      "metadata": {
        "id": "view-in-github",
        "colab_type": "text"
      },
      "source": [
        "<a href=\"https://colab.research.google.com/github/nrmlptr/Latihan-ML/blob/main/Latihan8_Sklearn_PCA_ipynb_json.ipynb\" target=\"_parent\"><img src=\"https://colab.research.google.com/assets/colab-badge.svg\" alt=\"Open In Colab\"/></a>"
      ]
    },
    {
      "cell_type": "markdown",
      "source": [
        "tujuan latihan ini Pada latihan untuk berlatih mengimplementasi PCA dengan library SKLearn."
      ],
      "metadata": {
        "id": "lj-uSVMtjIg3"
      }
    },
    {
      "cell_type": "code",
      "metadata": {
        "id": "snyx5YV2ygwM"
      },
      "source": [
        "from sklearn import datasets\n",
        "from sklearn.model_selection import train_test_split\n",
        "\n",
        "iris = datasets.load_iris()\n",
        "atribut = iris.data\n",
        "label = iris.target\n",
        "\n",
        "# bagi dataset menjadi train set dan test set\n",
        "X_train, X_test, y_train, y_test = train_test_split(\n",
        "    atribut, label, test_size=0.2, random_state=1)"
      ],
      "execution_count": 1,
      "outputs": []
    },
    {
      "cell_type": "markdown",
      "source": [
        "selanjutnya gunakan model Decision Tree dan hitung berapa akurasinya tanpa menggunakan PCA."
      ],
      "metadata": {
        "id": "cvT7xOOWjgVX"
      }
    },
    {
      "cell_type": "code",
      "metadata": {
        "id": "xm3Y-q9-yrXv",
        "outputId": "eab44281-499e-44e8-f48c-f5c9ee850104",
        "colab": {
          "base_uri": "https://localhost:8080/"
        }
      },
      "source": [
        "from sklearn import tree\n",
        "\n",
        "# menghitung akurasi model tanpa PCA\n",
        "decision_tree = tree.DecisionTreeClassifier()\n",
        "model_pertama = decision_tree.fit(X_train, y_train)\n",
        "model_pertama.score(X_test, y_test)"
      ],
      "execution_count": 2,
      "outputs": [
        {
          "output_type": "execute_result",
          "data": {
            "text/plain": [
              "0.9666666666666667"
            ]
          },
          "metadata": {},
          "execution_count": 2
        }
      ]
    },
    {
      "cell_type": "markdown",
      "source": [
        "Kemudian gunakan PCA dan hitung variance dari setiap atribut. Hasilnya adalah 1 atribut memiliki variance sebesar 0.928, yang berarti atribut tersebut menyimpan informasi yang tinggi dan jauh lebih signifikan dari atribut lain."
      ],
      "metadata": {
        "id": "nm9DgXPojsWW"
      }
    },
    {
      "cell_type": "code",
      "metadata": {
        "id": "LXfvFEeAytjT",
        "outputId": "c674cb80-3e5e-48e2-c54c-d662569b0ccf",
        "colab": {
          "base_uri": "https://localhost:8080/"
        }
      },
      "source": [
        "from sklearn.decomposition import PCA\n",
        "\n",
        "# membuat objek PCA dengan 4 principal component\n",
        "pca = PCA(n_components=4)\n",
        "\n",
        "# mengaplikasikan PCA pada dataset\n",
        "pca_attributes = pca.fit_transform(X_train)\n",
        "\n",
        "# melihat variance dari setiap atribut\n",
        "pca.explained_variance_ratio_"
      ],
      "execution_count": 3,
      "outputs": [
        {
          "output_type": "execute_result",
          "data": {
            "text/plain": [
              "array([0.92848323, 0.04764372, 0.01931005, 0.004563  ])"
            ]
          },
          "metadata": {},
          "execution_count": 3
        }
      ]
    },
    {
      "cell_type": "markdown",
      "source": [
        "dari variance sebelumnya kita dapat mengambil 2 principal component terbaik."
      ],
      "metadata": {
        "id": "M0iQAj2YkA9k"
      }
    },
    {
      "cell_type": "code",
      "metadata": {
        "id": "2ytSpsehyvpZ"
      },
      "source": [
        "# PCA dengan 2 principal component\n",
        "pca = PCA(n_components = 2)\n",
        "X_train_pca = pca.fit_transform(X_train)\n",
        "X_test_pca = pca.fit_transform(X_test)"
      ],
      "execution_count": 4,
      "outputs": []
    },
    {
      "cell_type": "markdown",
      "source": [
        "lalu uji akurasi dari classifier setelah menggunakan PCA."
      ],
      "metadata": {
        "id": "pHVs1YpTkOiW"
      }
    },
    {
      "cell_type": "code",
      "metadata": {
        "id": "xrRv6-SFyzdT",
        "outputId": "5d817e43-c50d-48a0-9276-f91cb1ea359b",
        "colab": {
          "base_uri": "https://localhost:8080/"
        }
      },
      "source": [
        "# uji akurasi classifier\n",
        "\n",
        "model2 = decision_tree.fit(X_train_pca, y_train)\n",
        "model2.score(X_test_pca, y_test)"
      ],
      "execution_count": 5,
      "outputs": [
        {
          "output_type": "execute_result",
          "data": {
            "text/plain": [
              "0.9333333333333333"
            ]
          },
          "metadata": {},
          "execution_count": 5
        }
      ]
    },
    {
      "cell_type": "markdown",
      "source": [
        "Dari percobaan di atas dapat dilihat bahwa dengan hanya 2 principal component atau 2 atribut saja model masih memiliki akurasi yang tinggi. Dengan principal component atribut yang kurang signifikan dapat dikurangi dalam prediksi sehingga bisa mempercepat waktu pelatihan sebuah model machine learning."
      ],
      "metadata": {
        "id": "dlUT3jJlkWr0"
      }
    }
  ]
}