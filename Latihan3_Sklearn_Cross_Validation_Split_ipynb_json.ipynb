{
  "nbformat": 4,
  "nbformat_minor": 0,
  "metadata": {
    "colab": {
      "provenance": [],
      "include_colab_link": true
    },
    "kernelspec": {
      "name": "python3",
      "display_name": "Python 3"
    }
  },
  "cells": [
    {
      "cell_type": "markdown",
      "metadata": {
        "id": "view-in-github",
        "colab_type": "text"
      },
      "source": [
        "<a href=\"https://colab.research.google.com/github/nrmlptr/Latihan-ML/blob/main/Latihan3_Sklearn_Cross_Validation_Split_ipynb_json.ipynb\" target=\"_parent\"><img src=\"https://colab.research.google.com/assets/colab-badge.svg\" alt=\"Open In Colab\"/></a>"
      ]
    },
    {
      "cell_type": "markdown",
      "source": [
        "Tujuan dari latihan ini : menggunakan cross_validation_score pada classifier decision_tree. Dataset yang digunakan adalah dataset iris."
      ],
      "metadata": {
        "id": "OeyhO2yYF_5V"
      }
    },
    {
      "cell_type": "code",
      "metadata": {
        "id": "4c-FFv1xfZMj"
      },
      "source": [
        "import sklearn\n",
        "from sklearn import datasets\n",
        "\n",
        "# load iris dataset\n",
        "iris = datasets.load_iris()"
      ],
      "execution_count": 1,
      "outputs": []
    },
    {
      "cell_type": "code",
      "metadata": {
        "id": "O4BfrSX0gnAw"
      },
      "source": [
        "# bagi atribut dan target, assign ke dalam variable x, y\n",
        "x=iris.data\n",
        "y=iris.target"
      ],
      "execution_count": 2,
      "outputs": []
    },
    {
      "cell_type": "code",
      "metadata": {
        "id": "41CcVDOIgC8w"
      },
      "source": [
        "from sklearn import tree\n",
        "\n",
        "# membuat model dengan decision tree classifier\n",
        "clf = tree.DecisionTreeClassifier()"
      ],
      "execution_count": 6,
      "outputs": []
    },
    {
      "cell_type": "code",
      "metadata": {
        "id": "gpWsdO5wgDlj",
        "outputId": "d87207ab-8987-4bb7-ec69-eb30aec91ea8",
        "colab": {
          "base_uri": "https://localhost:8080/"
        }
      },
      "source": [
        "# mengevaluasi performa model dengan cross_val_score\n",
        "from sklearn.model_selection import cross_val_score\n",
        "\n",
        "scores = cross_val_score(clf, x, y, cv=5)\n",
        "scores"
      ],
      "execution_count": 7,
      "outputs": [
        {
          "output_type": "execute_result",
          "data": {
            "text/plain": [
              "array([0.96666667, 0.96666667, 0.9       , 0.96666667, 1.        ])"
            ]
          },
          "metadata": {},
          "execution_count": 7
        }
      ]
    }
  ]
}