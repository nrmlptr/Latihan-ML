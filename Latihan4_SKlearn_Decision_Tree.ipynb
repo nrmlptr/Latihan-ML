{
  "nbformat": 4,
  "nbformat_minor": 0,
  "metadata": {
    "colab": {
      "provenance": [],
      "toc_visible": true,
      "authorship_tag": "ABX9TyNjO6KwgMOsHKsRuqvGcm5p",
      "include_colab_link": true
    },
    "kernelspec": {
      "name": "python3",
      "display_name": "Python 3"
    },
    "language_info": {
      "name": "python"
    }
  },
  "cells": [
    {
      "cell_type": "markdown",
      "metadata": {
        "id": "view-in-github",
        "colab_type": "text"
      },
      "source": [
        "<a href=\"https://colab.research.google.com/github/nrmlptr/Latihan-ML/blob/main/Latihan_4_SKlearn_Decision_Tree.ipynb\" target=\"_parent\"><img src=\"https://colab.research.google.com/assets/colab-badge.svg\" alt=\"Open In Colab\"/></a>"
      ]
    },
    {
      "cell_type": "markdown",
      "source": [
        "Tujuan dari latihan ini : melakukan klasifikasi data yang kita miliki dengan teknik Decision Tree menggunakan dataset iris"
      ],
      "metadata": {
        "id": "CFD15eHLIvpg"
      }
    },
    {
      "cell_type": "markdown",
      "source": [
        "Dataset iris terdiri dari 4 atribut yaitu\n",
        "1. panjang sepal\n",
        "2. lebar sepal\n",
        "3. panjang petal\n",
        "4. lebar petal.\n",
        "\n",
        "Terdapat 3 kelas target pada dataset ini. Data ini digunakan untuk masalah klasifikasi, di mana kita memprediksi jenis spesies sebuah bunga berdasarkan atribut-atribut yang diberikan."
      ],
      "metadata": {
        "id": "-crV1woQI0XQ"
      }
    },
    {
      "cell_type": "code",
      "execution_count": null,
      "metadata": {
        "colab": {
          "base_uri": "https://localhost:8080/"
        },
        "id": "iAgxdC08IryP",
        "outputId": "4fff750d-a06e-47d0-f191-43f7711764b1"
      },
      "outputs": [
        {
          "output_type": "stream",
          "name": "stdout",
          "text": [
            "<class 'pandas.core.frame.DataFrame'>\n",
            "RangeIndex: 150 entries, 0 to 149\n",
            "Data columns (total 6 columns):\n",
            " #   Column         Non-Null Count  Dtype  \n",
            "---  ------         --------------  -----  \n",
            " 0   Id             150 non-null    int64  \n",
            " 1   SepalLengthCm  150 non-null    float64\n",
            " 2   SepalWidthCm   150 non-null    float64\n",
            " 3   PetalLengthCm  150 non-null    float64\n",
            " 4   PetalWidthCm   150 non-null    float64\n",
            " 5   Species        150 non-null    object \n",
            "dtypes: float64(4), int64(1), object(1)\n",
            "memory usage: 7.2+ KB\n",
            "Accuracy:  0.933\n"
          ]
        }
      ],
      "source": [
        "import pandas as pd\n",
        "\n",
        "# Membaca file iris.csv\n",
        "iris = pd.read_csv('sample_data/Iris.csv')\n",
        "\n",
        "# Melihat info dataset\n",
        "iris.info()\n",
        "\n",
        "# Melihat info dataset pada 5 baris pertama\n",
        "iris.head()\n",
        "\n",
        "# Identifikasi data dan hilangkan kolom id\n",
        "iris.drop('Id',axis=1,inplace=True)\n",
        "\n",
        "# memisahkan atribut dan label sebelum melatih model\n",
        "X = iris[['SepalLengthCm', 'SepalWidthCm', 'PetalLengthCm', 'PetalWidthCm' ]]\n",
        "y = iris['Species']\n",
        "\n",
        "# Lalu membagi dataset menjadi data latih dan data uji\n",
        "from sklearn.model_selection import train_test_split\n",
        "X_train, X_test, y_train, y_test = train_test_split(X, y, test_size=0.1, random_state=123)\n",
        "\n",
        "\n",
        "# Definisikan model decision tree\n",
        "from sklearn.tree import DecisionTreeClassifier\n",
        "\n",
        "# buat model decision tree\n",
        "tree_model = DecisionTreeClassifier()\n",
        "\n",
        "# latih model dengan data latih yang sudah dibuat\n",
        "tree_model = tree_model.fit(X_train, y_train)\n",
        "\n",
        "# uji model menggunakan fungsi predict()\n",
        "# gunakan metrik akurasi untuk melihat seberapa baik model yang sudah dilatih\n",
        "\n",
        "from sklearn.metrics import accuracy_score\n",
        "\n",
        "y_pred = tree_model.predict(X_test)\n",
        "\n",
        "acc_secore = round(accuracy_score(y_pred, y_test), 3)\n",
        "\n",
        "print('Accuracy: ', acc_secore)\n"
      ]
    },
    {
      "cell_type": "markdown",
      "source": [
        "setelah mendapat nilai akurasi, kita bisa mencoba model untuk memprediksi spesies dari sebuah bunga Iris dengan memasukkan nilai yang sesuai dengan format tersebut secara berurutan dalam satuan centimeter. Pada contoh berikut, saya akan memprediksi spesies dari sebuah bunga iris  yang memiliki\n",
        "1. panjang sepal 6,2 centimeter\n",
        "2. lebar sepal 3,4 centimeter\n",
        "3. panjang petal 5,4 centimeter\n",
        "4. lebar petal 2,3 centimeter."
      ],
      "metadata": {
        "id": "p2fBPiLtMbUQ"
      }
    },
    {
      "cell_type": "code",
      "source": [
        "# prediksi model dengan tree_model.predict([[SepalLength, SepalWidth, PetalLength, PetalWidth]])\n",
        "print(tree_model.predict([[6.2, 3.4, 5.4, 2.3]])[0])"
      ],
      "metadata": {
        "colab": {
          "base_uri": "https://localhost:8080/"
        },
        "id": "WFxBRHBjMw2l",
        "outputId": "f6824834-9c1e-452b-8910-1cb57d45eb67"
      },
      "execution_count": null,
      "outputs": [
        {
          "output_type": "stream",
          "name": "stdout",
          "text": [
            "Iris-virginica\n"
          ]
        },
        {
          "output_type": "stream",
          "name": "stderr",
          "text": [
            "/usr/local/lib/python3.10/dist-packages/sklearn/base.py:439: UserWarning: X does not have valid feature names, but DecisionTreeClassifier was fitted with feature names\n",
            "  warnings.warn(\n"
          ]
        }
      ]
    },
    {
      "cell_type": "markdown",
      "source": [
        "selain melakukan prediksi, saya juga akan melihat visualisasi dari decision tree yang telah  dibuat terhadap data menggunakan library Graphviz. Hasil dari graphviz adalah dot file yang akan muncul pada folder file di panel sebelah kiri Google Colab."
      ],
      "metadata": {
        "id": "IFpxbORHNMU-"
      }
    },
    {
      "cell_type": "code",
      "source": [
        "from sklearn.tree import export_graphviz\n",
        "export_graphviz(\n",
        "    tree_model,\n",
        "    out_file = \"iris_tree.dot\",\n",
        "    feature_names = ['SepalLengthCm', 'SepalWidthCm', 'PetalLengthCm', 'PetalWidthCm'],\n",
        "    class_names = ['Iris-sentosa', 'Iris-versicolor', 'Iris-virginica'],\n",
        "    rounded = True,\n",
        "    filled = True)"
      ],
      "metadata": {
        "id": "5ba3E3CgNVf8"
      },
      "execution_count": null,
      "outputs": []
    }
  ]
}
